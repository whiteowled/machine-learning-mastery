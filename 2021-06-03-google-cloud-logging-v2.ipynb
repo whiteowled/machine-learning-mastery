{
 "cells": [
  {
   "cell_type": "code",
   "execution_count": 1,
   "id": "71015449",
   "metadata": {},
   "outputs": [],
   "source": [
    "import logging\n",
    "import google.cloud.logging_v2 as logging_v2\n",
    "from os import environ"
   ]
  },
  {
   "cell_type": "code",
   "execution_count": 2,
   "id": "1faea8cf",
   "metadata": {},
   "outputs": [],
   "source": [
    "client = logging_v2.client.Client()"
   ]
  },
  {
   "cell_type": "code",
   "execution_count": 3,
   "id": "b2a75880",
   "metadata": {},
   "outputs": [],
   "source": [
    "google_log_format= logging.Formatter(fmt='%(name)s | %(module)s | %(funcName)s | %(message)s',\n",
    "                      datefmt='%Y-%m-$dT%H:%M:%S')\n",
    "\n"
   ]
  },
  {
   "cell_type": "code",
   "execution_count": 4,
   "id": "685b24bc",
   "metadata": {},
   "outputs": [],
   "source": [
    "handler = client.get_default_handler()\n"
   ]
  },
  {
   "cell_type": "code",
   "execution_count": 5,
   "id": "8c20e596",
   "metadata": {},
   "outputs": [],
   "source": [
    "handler.setFormatter(google_log_format)"
   ]
  },
  {
   "cell_type": "code",
   "execution_count": 6,
   "id": "ed429d18",
   "metadata": {},
   "outputs": [],
   "source": [
    "cloud_logger = logging.getLogger(\"vertex-ai-notebook-logger\")\n"
   ]
  },
  {
   "cell_type": "code",
   "execution_count": 7,
   "id": "2bb06c8e",
   "metadata": {},
   "outputs": [],
   "source": [
    "cloud_logger.setLevel(\"INFO\")\n"
   ]
  },
  {
   "cell_type": "code",
   "execution_count": 8,
   "id": "77bb5965",
   "metadata": {},
   "outputs": [],
   "source": [
    "cloud_logger.addHandler(handler)"
   ]
  },
  {
   "cell_type": "code",
   "execution_count": 9,
   "id": "1aa07682",
   "metadata": {},
   "outputs": [],
   "source": [
    "log = logging.getLogger(\"vertex-ai-notebook-logger\")\n"
   ]
  },
  {
   "cell_type": "code",
   "execution_count": 10,
   "id": "7ad5a8d2",
   "metadata": {},
   "outputs": [],
   "source": [
    "log.info(\"This is a log from a Vertex AI Notebook!\")"
   ]
  },
  {
   "cell_type": "code",
   "execution_count": null,
   "id": "7d4224b8",
   "metadata": {},
   "outputs": [],
   "source": []
  }
 ],
 "metadata": {
  "environment": {
   "name": "tf2-gpu.2-5.m71",
   "type": "gcloud",
   "uri": "gcr.io/deeplearning-platform-release/tf2-gpu.2-5:m71"
  },
  "kernelspec": {
   "display_name": "Python [conda env:root] *",
   "language": "python",
   "name": "conda-root-py"
  },
  "language_info": {
   "codemirror_mode": {
    "name": "ipython",
    "version": 3
   },
   "file_extension": ".py",
   "mimetype": "text/x-python",
   "name": "python",
   "nbconvert_exporter": "python",
   "pygments_lexer": "ipython3",
   "version": "3.7.10"
  }
 },
 "nbformat": 4,
 "nbformat_minor": 5
}
